{
 "cells": [
  {
   "cell_type": "code",
   "execution_count": 2,
   "id": "6d553fb3",
   "metadata": {},
   "outputs": [],
   "source": [
    "import pandas as pd\n",
    "from functools import reduce"
   ]
  },
  {
   "cell_type": "code",
   "execution_count": 2,
   "id": "82acd7e1",
   "metadata": {},
   "outputs": [],
   "source": [
    "# obtain valid precincts\n",
    "precinct_df=pd.read_csv(\"nypp_precinct_code.csv\")"
   ]
  },
  {
   "cell_type": "code",
   "execution_count": 3,
   "id": "3d7ad6b4",
   "metadata": {},
   "outputs": [],
   "source": [
    "valid_precincts = precinct_df['Precinct'].unique()"
   ]
  },
  {
   "cell_type": "code",
   "execution_count": 4,
   "id": "d3f5ad27",
   "metadata": {},
   "outputs": [],
   "source": [
    "# create helper function to import violation data, remove invalid precincts, and aggregate violation by precincts\n",
    "def get_violation_by_precincts(file_path, valid_precincts):\n",
    "    df = pd.read_csv(file_path)\n",
    "    df_pp = df[df['Violation Precinct'].isin(valid_precincts)]\n",
    "    df_pp_sub = df_pp[['Violation Precinct', 'latitude', 'longitude', 'Issue Date', 'Violation Time']]\n",
    "    violation_by_pct = pd.DataFrame(df_pp_sub.groupby('Violation Precinct')['Violation Precinct'].count()).rename(columns={\"Violation Precinct\":\"count\"}).reset_index()\n",
    "    return violation_by_pct"
   ]
  },
  {
   "cell_type": "code",
   "execution_count": 5,
   "id": "4613d98f",
   "metadata": {},
   "outputs": [
    {
     "name": "stderr",
     "output_type": "stream",
     "text": [
      "/opt/anaconda3/envs/ds-dev/lib/python3.7/site-packages/ipykernel_launcher.py:3: DtypeWarning: Columns (17,18,20,22,23,29,30,31,32,36,38) have mixed types.Specify dtype option on import or set low_memory=False.\n",
      "  This is separate from the ipykernel package so we can avoid doing imports until\n",
      "/opt/anaconda3/envs/ds-dev/lib/python3.7/site-packages/ipykernel_launcher.py:6: DtypeWarning: Columns (29) have mixed types.Specify dtype option on import or set low_memory=False.\n",
      "  \n",
      "/opt/anaconda3/envs/ds-dev/lib/python3.7/site-packages/ipykernel_launcher.py:19: FutureWarning: Passing 'suffixes' which cause duplicate columns {'count_x'} in the result is deprecated and will raise a MergeError in a future version.\n"
     ]
    }
   ],
   "source": [
    "# read violation data for 2021, aggregate by precinct and export.\n",
    "violation_21_1 = 'geopt_parking_violation/geopt_partial_parking_21.csv'\n",
    "violation_21_1_df = get_violation_by_precincts(violation_21_1, valid_precincts)\n",
    "\n",
    "violation_21_2 = 'geopt_parking_violation/geopt_partial_parking_21_pt2.csv'\n",
    "violation_21_2_df = get_violation_by_precincts(violation_21_2, valid_precincts)\n",
    "\n",
    "violation_21_3 = 'geopt_parking_violation/geopt_partial_parking_21_pt3.csv'\n",
    "violation_21_3_df = get_violation_by_precincts(violation_21_3, valid_precincts)\n",
    "\n",
    "violation_21_4 = 'geopt_parking_violation/geopt_partial_parking_21_pt4.csv'\n",
    "violation_21_4_df = get_violation_by_precincts(violation_21_4, valid_precincts)\n",
    "\n",
    "violation_21_5 = 'geopt_parking_violation/geopt_partial_parking_21_pt5.csv'\n",
    "violation_21_5_df = get_violation_by_precincts(violation_21_5, valid_precincts)\n",
    "\n",
    "data_frames = [violation_21_1_df, violation_21_2_df, violation_21_3_df, violation_21_4_df, violation_21_5_df]\n",
    "violation_21_df = reduce(lambda  left,right: pd.merge(left,right,on=['Violation Precinct'],\n",
    "                                            how='outer'), data_frames).fillna(0)\n",
    "\n",
    "violation_21_df['sum'] = violation_21_df.drop('Violation Precinct', axis=1).sum(axis=1)\n",
    "\n",
    "violation_21_df = violation_21_df[['Violation Precinct', 'sum']]\n",
    "\n",
    "violation_21_df.to_csv(\"violation_precinct_21.csv\", index=False)"
   ]
  },
  {
   "cell_type": "code",
   "execution_count": 6,
   "id": "18f01abc",
   "metadata": {},
   "outputs": [
    {
     "name": "stderr",
     "output_type": "stream",
     "text": [
      "/opt/anaconda3/envs/ds-dev/lib/python3.7/site-packages/ipykernel_launcher.py:4: DtypeWarning: Columns (17,18,20,22,23,29,30,31,32,36,38) have mixed types.Specify dtype option on import or set low_memory=False.\n",
      "  after removing the cwd from sys.path.\n",
      "/opt/anaconda3/envs/ds-dev/lib/python3.7/site-packages/ipykernel_launcher.py:7: DtypeWarning: Columns (29) have mixed types.Specify dtype option on import or set low_memory=False.\n",
      "  import sys\n"
     ]
    }
   ],
   "source": [
    "# repeat for 2020 data\n",
    "\n",
    "violation_20_1 = 'geopt_parking_violation/geopt_2020_partial_parking.csv'\n",
    "violation_20_1_df = get_violation_by_precincts(violation_20_1, valid_precincts)\n",
    "\n",
    "violation_20_2 = 'geopt_parking_violation/geopt_partial_parking_20_pt2.csv'\n",
    "violation_20_2_df = get_violation_by_precincts(violation_20_2, valid_precincts)\n",
    "\n",
    "violation_20_3 = 'geopt_parking_violation/geopt_partial_parking_20_pt3.csv'\n",
    "violation_20_3_df = get_violation_by_precincts(violation_20_3, valid_precincts)\n",
    "\n",
    "\n",
    "\n",
    "data_frames = [violation_20_1_df, violation_20_2_df, violation_20_3_df]\n",
    "violation_20_df = reduce(lambda  left,right: pd.merge(left,right,on=['Violation Precinct'],\n",
    "                                            how='outer'), data_frames).fillna(0)\n",
    "\n",
    "violation_20_df['sum'] = violation_20_df.drop('Violation Precinct', axis=1).sum(axis=1)\n",
    "\n",
    "violation_20_df = violation_20_df[['Violation Precinct', 'sum']]\n",
    "\n",
    "violation_20_df.to_csv(\"violation_precinct_20.csv\", index=False)\n"
   ]
  }
 ],
 "metadata": {
  "kernelspec": {
   "display_name": "Python 3 (ipykernel)",
   "language": "python",
   "name": "python3"
  },
  "language_info": {
   "codemirror_mode": {
    "name": "ipython",
    "version": 3
   },
   "file_extension": ".py",
   "mimetype": "text/x-python",
   "name": "python",
   "nbconvert_exporter": "python",
   "pygments_lexer": "ipython3",
   "version": "3.7.11"
  }
 },
 "nbformat": 4,
 "nbformat_minor": 5
}
